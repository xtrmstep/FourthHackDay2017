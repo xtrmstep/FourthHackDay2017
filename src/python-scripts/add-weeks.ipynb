# The script MUST contain a function named azureml_main
# which is the entry point for this module.

# imports up here can be used to 
import pandas as pd
import numpy as np

def week_avg(df, newColumn, startIndex):
    df[newColumn] = (np.nan_to_num(df['Quantity'].shift(startIndex))
        +np.nan_to_num(df['Quantity'].shift(startIndex+1))
        +np.nan_to_num(df['Quantity'].shift(startIndex+2))
        +np.nan_to_num(df['Quantity'].shift(startIndex+3))
        +np.nan_to_num(df['Quantity'].shift(startIndex+4))
        +np.nan_to_num(df['Quantity'].shift(startIndex+5))
        +np.nan_to_num(df['Quantity'].shift(startIndex+6)))/7
                         
# The entry point function can contain up to two input arguments:
#   Param<dataframe1>: a pandas.DataFrame
#   Param<dataframe2>: a pandas.DataFrame
def azureml_main(dataframe1 = None, dataframe2 = None):
    
    week_avg(dataframe1, 'Week-1', 1)
    week_avg(dataframe1, 'Week-2', 2)
    week_avg(dataframe1, 'Week-3', 3)
    week_avg(dataframe1, 'Week-4', 4)
    week_avg(dataframe1, 'Week-5', 5)
    
    return dataframe1,